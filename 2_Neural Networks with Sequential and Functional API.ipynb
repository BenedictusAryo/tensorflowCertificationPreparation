{
 "cells": [
  {
   "cell_type": "markdown",
   "metadata": {},
   "source": [
    "# Neural Networks with Sequential and Functional API\r\n",
    "\r\n",
    "How to build neural network using Keras Sequential and Functional API"
   ]
  },
  {
   "cell_type": "code",
   "execution_count": 1,
   "metadata": {},
   "outputs": [],
   "source": [
    "# Optional to surpress warning\r\n",
    "import os\r\n",
    "os.environ['TF_CPP_MIN_LOG_LEVEL'] = '2'\r\n",
    "\r\n",
    "import tensorflow as tf\r\n",
    "from tensorflow import keras\r\n",
    "from tensorflow.keras import layers\r\n",
    "from tensorflow.keras.datasets import mnist\r\n",
    "\r\n",
    "# Set physical device to GPU\r\n",
    "physical_devices = tf.config.list_physical_devices('GPU')\r\n",
    "tf.config.experimental.set_memory_growth(physical_devices[0], True)"
   ]
  },
  {
   "cell_type": "markdown",
   "metadata": {},
   "source": [
    "## Loading Datasets"
   ]
  },
  {
   "cell_type": "code",
   "execution_count": 2,
   "metadata": {},
   "outputs": [
    {
     "name": "stdout",
     "output_type": "stream",
     "text": [
      "Data shape:  (60000, 28, 28)\n"
     ]
    }
   ],
   "source": [
    "(x_train, y_train), (x_test, y_test) = mnist.load_data()\r\n",
    "# Data Shape\r\n",
    "print('Data shape: ',x_train.shape)\r\n",
    "# Flatten the dimension of data\r\n",
    "x_train = x_train.reshape(-1, 28*28).astype('float32') / 255.0\r\n",
    "x_test = x_test.reshape(-1, 28*28).astype('float32') / 255.0\r\n"
   ]
  },
  {
   "cell_type": "code",
   "execution_count": 3,
   "metadata": {},
   "outputs": [
    {
     "data": {
      "text/plain": [
       "array([5, 0, 4, ..., 5, 6, 8], dtype=uint8)"
      ]
     },
     "execution_count": 3,
     "metadata": {},
     "output_type": "execute_result"
    }
   ],
   "source": [
    "# Sample y_train\r\n",
    "y_train"
   ]
  },
  {
   "cell_type": "markdown",
   "metadata": {},
   "source": [
    "## Create Model\r\n",
    "\r\n",
    "## Sequential API (Very Convenient, not very flexible)"
   ]
  },
  {
   "cell_type": "code",
   "execution_count": 4,
   "metadata": {},
   "outputs": [
    {
     "name": "stdout",
     "output_type": "stream",
     "text": [
      "Model: \"sequential\"\n",
      "_________________________________________________________________\n",
      "Layer (type)                 Output Shape              Param #   \n",
      "=================================================================\n",
      "dense (Dense)                (None, 512)               401920    \n",
      "_________________________________________________________________\n",
      "dense_1 (Dense)              (None, 256)               131328    \n",
      "_________________________________________________________________\n",
      "dense_2 (Dense)              (None, 10)                2570      \n",
      "=================================================================\n",
      "Total params: 535,818\n",
      "Trainable params: 535,818\n",
      "Non-trainable params: 0\n",
      "_________________________________________________________________\n",
      "None\n",
      "Epoch 1/5\n",
      "1875/1875 - 4s - loss: 0.1824 - accuracy: 0.9453\n",
      "Epoch 2/5\n",
      "1875/1875 - 3s - loss: 0.0794 - accuracy: 0.9751\n",
      "Epoch 3/5\n",
      "1875/1875 - 4s - loss: 0.0542 - accuracy: 0.9826\n",
      "Epoch 4/5\n",
      "1875/1875 - 3s - loss: 0.0415 - accuracy: 0.9868\n",
      "Epoch 5/5\n",
      "1875/1875 - 3s - loss: 0.0317 - accuracy: 0.9898\n",
      "313/313 - 1s - loss: 0.0853 - accuracy: 0.9785\n"
     ]
    },
    {
     "data": {
      "text/plain": [
       "[0.08529872447252274, 0.9785000085830688]"
      ]
     },
     "execution_count": 4,
     "metadata": {},
     "output_type": "execute_result"
    }
   ],
   "source": [
    "# Model Initialization\r\n",
    "model = keras.Sequential(\r\n",
    "    [\r\n",
    "        keras.layers.InputLayer(input_shape=(28*28)),\r\n",
    "        layers.Dense(512, activation='relu'),\r\n",
    "        layers.Dense(256, activation='relu'),\r\n",
    "        layers.Dense(10),\r\n",
    "    ]\r\n",
    ")\r\n",
    "# Model Summary\r\n",
    "print(model.summary())\r\n",
    "\r\n",
    "# Model Compiling\r\n",
    "model.compile(\r\n",
    "    loss=keras.losses.SparseCategoricalCrossentropy(from_logits=True),\r\n",
    "    optimizer=keras.optimizers.Adam(learning_rate=0.001),\r\n",
    "    metrics=['accuracy']\r\n",
    ")\r\n",
    "\r\n",
    "# Train model\r\n",
    "model.fit(x_train, y_train, batch_size=32, epochs=5, verbose=2)\r\n",
    "\r\n",
    "# Test Evaluation\r\n",
    "model.evaluate(x_test, y_test, batch_size=32, verbose=2)"
   ]
  },
  {
   "cell_type": "markdown",
   "metadata": {},
   "source": [
    "## Sequential Add layer at a time"
   ]
  },
  {
   "cell_type": "code",
   "execution_count": 5,
   "metadata": {},
   "outputs": [
    {
     "name": "stdout",
     "output_type": "stream",
     "text": [
      "Model: \"sequential_1\"\n",
      "_________________________________________________________________\n",
      "Layer (type)                 Output Shape              Param #   \n",
      "=================================================================\n",
      "dense_3 (Dense)              (None, 512)               401920    \n",
      "_________________________________________________________________\n",
      "dense_4 (Dense)              (None, 256)               131328    \n",
      "_________________________________________________________________\n",
      "dense_5 (Dense)              (None, 10)                2570      \n",
      "=================================================================\n",
      "Total params: 535,818\n",
      "Trainable params: 535,818\n",
      "Non-trainable params: 0\n",
      "_________________________________________________________________\n",
      "None\n",
      "Epoch 1/5\n",
      "1875/1875 - 4s - loss: 0.1857 - accuracy: 0.9435\n",
      "Epoch 2/5\n",
      "1875/1875 - 4s - loss: 0.0789 - accuracy: 0.9757\n",
      "Epoch 3/5\n",
      "1875/1875 - 3s - loss: 0.0543 - accuracy: 0.9822\n",
      "Epoch 4/5\n",
      "1875/1875 - 3s - loss: 0.0424 - accuracy: 0.9864\n",
      "Epoch 5/5\n",
      "1875/1875 - 3s - loss: 0.0339 - accuracy: 0.9889\n",
      "313/313 - 1s - loss: 0.0817 - accuracy: 0.9762\n"
     ]
    },
    {
     "data": {
      "text/plain": [
       "[0.08173982799053192, 0.9761999845504761]"
      ]
     },
     "execution_count": 5,
     "metadata": {},
     "output_type": "execute_result"
    }
   ],
   "source": [
    "# Model Initialization\r\n",
    "model = keras.Sequential()\r\n",
    "model.add(keras.layers.InputLayer(input_shape=(28*28)))\r\n",
    "model.add(layers.Dense(512, activation='relu'))\r\n",
    "model.add(layers.Dense(256, activation='relu'))\r\n",
    "model.add(layers.Dense(10))\r\n",
    "\r\n",
    "# Model Summary\r\n",
    "print(model.summary())\r\n",
    "\r\n",
    "# Model Compiling\r\n",
    "model.compile(\r\n",
    "    loss=keras.losses.SparseCategoricalCrossentropy(from_logits=True),\r\n",
    "    optimizer=keras.optimizers.Adam(learning_rate=0.001),\r\n",
    "    metrics=['accuracy']\r\n",
    ")\r\n",
    "\r\n",
    "# Train model\r\n",
    "model.fit(x_train, y_train, batch_size=32, epochs=5, verbose=2)\r\n",
    "\r\n",
    "# Test Evaluation\r\n",
    "model.evaluate(x_test, y_test, batch_size=32, verbose=2)"
   ]
  },
  {
   "cell_type": "markdown",
   "metadata": {},
   "source": [
    "## Functional API (A bit more flexible)"
   ]
  },
  {
   "cell_type": "code",
   "execution_count": 10,
   "metadata": {},
   "outputs": [
    {
     "name": "stdout",
     "output_type": "stream",
     "text": [
      "Model: \"model_2\"\n",
      "_________________________________________________________________\n",
      "Layer (type)                 Output Shape              Param #   \n",
      "=================================================================\n",
      "input_6 (InputLayer)         [(None, 784)]             0         \n",
      "_________________________________________________________________\n",
      "first_layer (Dense)          (None, 512)               401920    \n",
      "_________________________________________________________________\n",
      "second_layer (Dense)         (None, 256)               131328    \n",
      "_________________________________________________________________\n",
      "dense_11 (Dense)             (None, 10)                2570      \n",
      "=================================================================\n",
      "Total params: 535,818\n",
      "Trainable params: 535,818\n",
      "Non-trainable params: 0\n",
      "_________________________________________________________________\n",
      "None\n",
      "Epoch 1/5\n",
      "1875/1875 - 4s - loss: 0.1881 - accuracy: 0.9438\n",
      "Epoch 2/5\n",
      "1875/1875 - 4s - loss: 0.0804 - accuracy: 0.9745\n",
      "Epoch 3/5\n",
      "1875/1875 - 4s - loss: 0.0527 - accuracy: 0.9831\n",
      "Epoch 4/5\n",
      "1875/1875 - 4s - loss: 0.0417 - accuracy: 0.9867\n",
      "Epoch 5/5\n",
      "1875/1875 - 4s - loss: 0.0320 - accuracy: 0.9896\n",
      "313/313 - 1s - loss: 0.1047 - accuracy: 0.9720\n"
     ]
    },
    {
     "data": {
      "text/plain": [
       "[0.10473985224962234, 0.972000002861023]"
      ]
     },
     "execution_count": 10,
     "metadata": {},
     "output_type": "execute_result"
    }
   ],
   "source": [
    "# Functional Model Initialization\r\n",
    "inputs = keras.layers.Input(shape=(28*28))\r\n",
    "x = layers.Dense(512, activation='relu', name='first_layer')(inputs)\r\n",
    "x = layers.Dense(256, activation='relu', name='second_layer')(x)\r\n",
    "outputs = layers.Dense(10, activation='softmax')(x)\r\n",
    "model = keras.Model(inputs=inputs, outputs=outputs)\r\n",
    "\r\n",
    "# Model Summary\r\n",
    "print(model.summary())\r\n",
    "\r\n",
    "# Model Compiling\r\n",
    "model.compile(\r\n",
    "    loss=keras.losses.SparseCategoricalCrossentropy(from_logits=False),\r\n",
    "    optimizer=keras.optimizers.Adam(learning_rate=0.001),\r\n",
    "    metrics=['accuracy']\r\n",
    ")\r\n",
    "\r\n",
    "# Train model\r\n",
    "model.fit(x_train, y_train, batch_size=32, epochs=5, verbose=2)\r\n",
    "\r\n",
    "# Test Evaluation\r\n",
    "model.evaluate(x_test, y_test, batch_size=32, verbose=2)"
   ]
  },
  {
   "cell_type": "code",
   "execution_count": null,
   "metadata": {},
   "outputs": [],
   "source": []
  }
 ],
 "metadata": {
  "interpreter": {
   "hash": "52035e4d146f99c150422bfac8e07f32a30b89a60d9dd60756d600c4b026426f"
  },
  "kernelspec": {
   "display_name": "Python 3.8.10 64-bit ('tensorflow': conda)",
   "name": "python3"
  },
  "language_info": {
   "codemirror_mode": {
    "name": "ipython",
    "version": 3
   },
   "file_extension": ".py",
   "mimetype": "text/x-python",
   "name": "python",
   "nbconvert_exporter": "python",
   "pygments_lexer": "ipython3",
   "version": "3.8.10"
  },
  "orig_nbformat": 4
 },
 "nbformat": 4,
 "nbformat_minor": 2
}