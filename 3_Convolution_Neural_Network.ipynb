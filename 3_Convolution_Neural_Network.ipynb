{
 "cells": [
  {
   "cell_type": "markdown",
   "metadata": {},
   "source": [
    "# Convolution Neural Network"
   ]
  },
  {
   "cell_type": "code",
   "execution_count": 2,
   "metadata": {},
   "outputs": [],
   "source": [
    "# Optional to surpress warning\r\n",
    "import os\r\n",
    "os.environ['TF_CPP_MIN_LOG_LEVEL'] = '2'\r\n",
    "\r\n",
    "import tensorflow as tf\r\n",
    "from tensorflow import keras\r\n",
    "from tensorflow.keras import layers\r\n",
    "from tensorflow.keras.datasets import cifar10\r\n",
    "\r\n",
    "# Set physical device to GPU\r\n",
    "physical_devices = tf.config.list_physical_devices('GPU')\r\n",
    "tf.config.experimental.set_memory_growth(physical_devices[0], True)"
   ]
  },
  {
   "cell_type": "code",
   "execution_count": 3,
   "metadata": {},
   "outputs": [
    {
     "name": "stdout",
     "output_type": "stream",
     "text": [
      "Downloading data from https://www.cs.toronto.edu/~kriz/cifar-10-python.tar.gz\n",
      "170500096/170498071 [==============================] - 55s 0us/step\n",
      "Data shape:  (50000, 32, 32, 3)\n"
     ]
    }
   ],
   "source": [
    "(x_train, y_train), (x_test, y_test) = cifar10.load_data()\r\n",
    "# Data Shape\r\n",
    "print('Data shape: ',x_train.shape)\r\n",
    "x_train = x_train.astype('float32') / 255.0\r\n",
    "x_test = x_test.astype('float32') / 255.0"
   ]
  },
  {
   "cell_type": "code",
   "execution_count": 6,
   "metadata": {},
   "outputs": [
    {
     "name": "stdout",
     "output_type": "stream",
     "text": [
      "Model: \"sequential_1\"\n",
      "_________________________________________________________________\n",
      "Layer (type)                 Output Shape              Param #   \n",
      "=================================================================\n",
      "conv2d_1 (Conv2D)            (None, 30, 30, 32)        896       \n",
      "_________________________________________________________________\n",
      "max_pooling2d_1 (MaxPooling2 (None, 15, 15, 32)        0         \n",
      "_________________________________________________________________\n",
      "conv2d_2 (Conv2D)            (None, 13, 13, 64)        18496     \n",
      "_________________________________________________________________\n",
      "max_pooling2d_2 (MaxPooling2 (None, 6, 6, 64)          0         \n",
      "_________________________________________________________________\n",
      "conv2d_3 (Conv2D)            (None, 4, 4, 128)         73856     \n",
      "_________________________________________________________________\n",
      "flatten (Flatten)            (None, 2048)              0         \n",
      "_________________________________________________________________\n",
      "dense (Dense)                (None, 64)                131136    \n",
      "_________________________________________________________________\n",
      "dense_1 (Dense)              (None, 10)                650       \n",
      "=================================================================\n",
      "Total params: 225,034\n",
      "Trainable params: 225,034\n",
      "Non-trainable params: 0\n",
      "_________________________________________________________________\n"
     ]
    }
   ],
   "source": [
    "#  Model Initialization\r\n",
    "model = keras.Sequential(\r\n",
    "    [\r\n",
    "        layers.InputLayer(input_shape=(32, 32, 3)),\r\n",
    "        layers.Conv2D(32, 3, padding='valid', activation='relu'),\r\n",
    "        layers.MaxPool2D(pool_size=(2,2)),\r\n",
    "        layers.Conv2D(64, 3, activation='relu'),\r\n",
    "        layers.MaxPool2D(),\r\n",
    "        layers.Conv2D(128, 3, activation='relu'),\r\n",
    "        layers.Flatten(),\r\n",
    "        layers.Dense(64, activation='relu'),\r\n",
    "        layers.Dense(10)\r\n",
    "    ]\r\n",
    ")\r\n",
    "\r\n",
    "model.summary()"
   ]
  },
  {
   "cell_type": "code",
   "execution_count": 7,
   "metadata": {},
   "outputs": [
    {
     "name": "stdout",
     "output_type": "stream",
     "text": [
      "Epoch 1/10\n",
      "782/782 - 9s - loss: 1.7068 - accuracy: 0.3774\n",
      "Epoch 2/10\n",
      "782/782 - 4s - loss: 1.3580 - accuracy: 0.5135\n",
      "Epoch 3/10\n",
      "782/782 - 4s - loss: 1.2270 - accuracy: 0.5659\n",
      "Epoch 4/10\n",
      "782/782 - 4s - loss: 1.1278 - accuracy: 0.6035\n",
      "Epoch 5/10\n",
      "782/782 - 4s - loss: 1.0488 - accuracy: 0.6328\n",
      "Epoch 6/10\n",
      "782/782 - 4s - loss: 0.9923 - accuracy: 0.6538\n",
      "Epoch 7/10\n",
      "782/782 - 4s - loss: 0.9491 - accuracy: 0.6699\n",
      "Epoch 8/10\n",
      "782/782 - 4s - loss: 0.9000 - accuracy: 0.6888\n",
      "Epoch 9/10\n",
      "782/782 - 4s - loss: 0.8611 - accuracy: 0.7020\n",
      "Epoch 10/10\n",
      "782/782 - 4s - loss: 0.8264 - accuracy: 0.7147\n",
      "157/157 [==============================] - 1s 3ms/step - loss: 0.9054 - accuracy: 0.6859\n"
     ]
    },
    {
     "data": {
      "text/plain": [
       "[0.9054311513900757, 0.6858999729156494]"
      ]
     },
     "execution_count": 7,
     "metadata": {},
     "output_type": "execute_result"
    }
   ],
   "source": [
    "model.compile(\r\n",
    "    loss=keras.losses.SparseCategoricalCrossentropy(from_logits=True),\r\n",
    "    optimizer=keras.optimizers.Adam(learning_rate=3e-4),\r\n",
    "    metrics=['accuracy']\r\n",
    ")\r\n",
    "\r\n",
    "model.fit(x_train, y_train, batch_size=64, epochs=10, verbose=2)\r\n",
    "model.evaluate(x_test, y_test, batch_size=64, verbose=True)"
   ]
  },
  {
   "cell_type": "markdown",
   "metadata": {},
   "source": [
    "## Functional API"
   ]
  },
  {
   "cell_type": "code",
   "execution_count": 12,
   "metadata": {},
   "outputs": [],
   "source": [
    "def my_model():\r\n",
    "    inputs = keras.layers.Input(shape=(32, 32, 3))\r\n",
    "    x = layers.Conv2D(32, 3)(inputs)\r\n",
    "    x = layers.BatchNormalization()(x)\r\n",
    "    x = keras.activations.relu(x)\r\n",
    "    x = layers.MaxPool2D()(x)\r\n",
    "    x = layers.Conv2D(64, 5, padding='same')(x)\r\n",
    "    x = layers.BatchNormalization()(x)\r\n",
    "    x = keras.activations.relu(x)\r\n",
    "    x = layers.Conv2D(128, 3)(x)\r\n",
    "    x = layers.BatchNormalization()(x)\r\n",
    "    x = keras.activations.relu(x)\r\n",
    "    x = layers.Flatten()(x)\r\n",
    "    x = layers.Dense(64, activation='relu')(x)\r\n",
    "    outputs = layers.Dense(10)(x)\r\n",
    "    model = keras.Model(inputs=inputs, outputs=outputs)\r\n",
    "    return model\r\n"
   ]
  },
  {
   "cell_type": "code",
   "execution_count": 13,
   "metadata": {},
   "outputs": [
    {
     "name": "stdout",
     "output_type": "stream",
     "text": [
      "Epoch 1/10\n",
      "782/782 - 6s - loss: 1.2912 - accuracy: 0.5447\n",
      "Epoch 2/10\n",
      "782/782 - 5s - loss: 0.8926 - accuracy: 0.6867\n",
      "Epoch 3/10\n",
      "782/782 - 5s - loss: 0.7311 - accuracy: 0.7435\n",
      "Epoch 4/10\n",
      "782/782 - 5s - loss: 0.6168 - accuracy: 0.7836\n",
      "Epoch 5/10\n",
      "782/782 - 5s - loss: 0.5288 - accuracy: 0.8152\n",
      "Epoch 6/10\n",
      "782/782 - 5s - loss: 0.4407 - accuracy: 0.8468\n",
      "Epoch 7/10\n",
      "782/782 - 5s - loss: 0.3702 - accuracy: 0.8722\n",
      "Epoch 8/10\n",
      "782/782 - 5s - loss: 0.3001 - accuracy: 0.8983\n",
      "Epoch 9/10\n",
      "782/782 - 5s - loss: 0.2435 - accuracy: 0.9197\n",
      "Epoch 10/10\n",
      "782/782 - 5s - loss: 0.1935 - accuracy: 0.9373\n",
      "157/157 [==============================] - 1s 4ms/step - loss: 0.9196 - accuracy: 0.7298\n"
     ]
    },
    {
     "data": {
      "text/plain": [
       "[0.9196483492851257, 0.7297999858856201]"
      ]
     },
     "execution_count": 13,
     "metadata": {},
     "output_type": "execute_result"
    }
   ],
   "source": [
    "model = my_model()\r\n",
    "\r\n",
    "model.compile(\r\n",
    "    loss=keras.losses.SparseCategoricalCrossentropy(from_logits=True),\r\n",
    "    optimizer=keras.optimizers.Adam(learning_rate=3e-4),\r\n",
    "    metrics=['accuracy']\r\n",
    ")\r\n",
    "\r\n",
    "model.fit(x_train, y_train, batch_size=64, epochs=10, verbose=2)\r\n",
    "model.evaluate(x_test, y_test, batch_size=64, verbose=True)"
   ]
  },
  {
   "cell_type": "code",
   "execution_count": null,
   "metadata": {},
   "outputs": [],
   "source": []
  }
 ],
 "metadata": {
  "interpreter": {
   "hash": "52035e4d146f99c150422bfac8e07f32a30b89a60d9dd60756d600c4b026426f"
  },
  "kernelspec": {
   "display_name": "Python 3.8.10 64-bit ('tensorflow': conda)",
   "name": "python3"
  },
  "language_info": {
   "codemirror_mode": {
    "name": "ipython",
    "version": 3
   },
   "file_extension": ".py",
   "mimetype": "text/x-python",
   "name": "python",
   "nbconvert_exporter": "python",
   "pygments_lexer": "ipython3",
   "version": "3.8.10"
  },
  "orig_nbformat": 4
 },
 "nbformat": 4,
 "nbformat_minor": 2
}